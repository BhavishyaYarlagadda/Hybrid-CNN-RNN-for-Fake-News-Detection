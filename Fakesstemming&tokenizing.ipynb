{
 "cells": [
  {
   "cell_type": "code",
   "execution_count": 24,
   "metadata": {},
   "outputs": [],
   "source": [
    "import pandas as pd\n",
    "import numpy as np\n",
    "import nltk\n",
    "from nltk.tokenize import word_tokenize\n",
    "from nltk.corpus import stopwords\n",
    "from nltk.stem import PorterStemmer\n",
    "import re\n",
    "from sklearn.model_selection import train_test_split\n",
    "from sklearn.preprocessing import LabelEncoder, OneHotEncoder\n",
    "from zipfile import ZipFile\n",
    "import os"
   ]
  },
  {
   "cell_type": "code",
   "execution_count": 25,
   "metadata": {},
   "outputs": [],
   "source": [
    "# Load the FA-KES dataset\n",
    "df_fakes = pd.read_csv(\"FA-KES-Dataset.csv\", encoding='ISO-8859-1')"
   ]
  },
  {
   "cell_type": "code",
   "execution_count": 26,
   "metadata": {},
   "outputs": [],
   "source": [
    "# Dataset Splitting for FA-KES dataset\n",
    "#train_test_split fcn scikit-learn library to split  into training and testing.\n",
    "X_fakes = df_fakes[\"article_title\"].values\n",
    "y_fakes = df_fakes[\"labels\"].values\n",
    "\n",
    "X_fakes_train, X_fakes_test, y_fakes_train, y_fakes_test = train_test_split(X_fakes, y_fakes, test_size=0.2, random_state=42)"
   ]
  },
  {
   "cell_type": "markdown",
   "metadata": {},
   "source": [
    "Stemming and Tokenizing"
   ]
  },
  {
   "cell_type": "code",
   "execution_count": 27,
   "metadata": {},
   "outputs": [
    {
     "name": "stderr",
     "output_type": "stream",
     "text": [
      "[nltk_data] Downloading package punkt to\n",
      "[nltk_data]     C:\\Users\\bhavi\\AppData\\Roaming\\nltk_data...\n",
      "[nltk_data]   Package punkt is already up-to-date!\n",
      "[nltk_data] Downloading package stopwords to\n",
      "[nltk_data]     C:\\Users\\bhavi\\AppData\\Roaming\\nltk_data...\n",
      "[nltk_data]   Package stopwords is already up-to-date!\n"
     ]
    }
   ],
   "source": [
    "# Text Pre-processing for FA-KES dataset\n",
    "nltk.download('punkt')\n",
    "nltk.download('stopwords')\n",
    "\n",
    "def text_preprocessing(text):\n",
    "    text = re.sub(r'\\b(?:\\d{1,3}\\.){3}\\d{1,3}\\b', '', text)#regular expressions to remove any IP addresses\n",
    "    text = re.sub(r'http\\S+|www\\S+|https\\S+', '', text)#to remove URLs\n",
    "    tokens = word_tokenize(text.lower())\n",
    "    stop_words = set(stopwords.words('english'))\n",
    "    tokens = [token for token in tokens if token not in stop_words]\n",
    "    stemmer = PorterStemmer()\n",
    "    stemmed_tokens = [stemmer.stem(token) for token in tokens]\n",
    "    preprocessed_text = ' '.join(stemmed_tokens)\n",
    "    return preprocessed_text\n",
    "\n",
    "X_fakes_train = [text_preprocessing(text) for text in X_fakes_train]\n",
    "X_fakes_test = [text_preprocessing(text) for text in X_fakes_test]"
   ]
  },
  {
   "cell_type": "code",
   "execution_count": 28,
   "metadata": {},
   "outputs": [
    {
     "name": "stdout",
     "output_type": "stream",
     "text": [
      "FA-KES Dataset:\n",
      "Train set size: 643\n",
      "Test set size: 161\n"
     ]
    }
   ],
   "source": [
    "# Summary of Data Splitting and Pre-processing FKes\n",
    "print(\"FA-KES Dataset:\")\n",
    "print(\"Train set size:\", len(X_fakes_train))\n",
    "print(\"Test set size:\", len(X_fakes_test))"
   ]
  },
  {
   "cell_type": "code",
   "execution_count": 29,
   "metadata": {},
   "outputs": [
    {
     "name": "stdout",
     "output_type": "stream",
     "text": [
      "Found 400000 word vectors.\n"
     ]
    }
   ],
   "source": [
    "from keras.preprocessing.text import Tokenizer\n",
    "from tensorflow.keras.preprocessing.sequence import pad_sequences\n",
    "import os\n",
    "\n",
    "# Load the pre-trained GloVe word embeddings\n",
    "embedding_dim = 100\n",
    "glove_file = \"glove.6B.100d.txt\"\n",
    "\n",
    "embeddings_index = {}\n",
    "with open(glove_file, 'r', encoding='utf-8') as f:\n",
    "    for line in f:\n",
    "        values = line.split()\n",
    "        word = values[0]\n",
    "        coefs = np.asarray(values[1:], dtype='float32')\n",
    "        embeddings_index[word] = coefs\n",
    "\n",
    "print('Found %s word vectors.' % len(embeddings_index))\n"
   ]
  },
  {
   "cell_type": "code",
   "execution_count": 30,
   "metadata": {},
   "outputs": [],
   "source": [
    "# Create tokenizer for FA-KES dataset\n",
    "tokenizer_fakes = Tokenizer()\n",
    "tokenizer_fakes.fit_on_texts(X_fakes_train)\n",
    "\n",
    "# Convert text to sequences of integers and apply post-padding\n",
    "X_fakes_train_sequences = tokenizer_fakes.texts_to_sequences(X_fakes_train)\n",
    "X_fakes_test_sequences = tokenizer_fakes.texts_to_sequences(X_fakes_test)\n",
    "\n",
    "max_sequence_length = 300\n",
    "X_fakes_train_padded = pad_sequences(X_fakes_train_sequences, maxlen=max_sequence_length)\n",
    "X_fakes_test_padded = pad_sequences(X_fakes_test_sequences, maxlen=max_sequence_length)"
   ]
  },
  {
   "cell_type": "code",
   "execution_count": 31,
   "metadata": {},
   "outputs": [],
   "source": [
    "# Prepare embedding matrix for FA-KES dataset\n",
    "word_index_fakes = tokenizer_fakes.word_index\n",
    "num_words_fakes = min(len(word_index_fakes), len(embeddings_index)) + 1\n",
    "embedding_matrix_fakes = np.zeros((num_words_fakes, embedding_dim))\n",
    "\n",
    "for word, i in word_index_fakes.items():\n",
    "    if i >= num_words_fakes:\n",
    "        continue\n",
    "    embedding_vector = embeddings_index.get(word)\n",
    "    if embedding_vector is not None:\n",
    "        embedding_matrix_fakes[i] = embedding_vector"
   ]
  },
  {
   "cell_type": "markdown",
   "metadata": {},
   "source": [
    "Hybrid CNN-RNN(LSTM)"
   ]
  },
  {
   "cell_type": "code",
   "execution_count": 32,
   "metadata": {},
   "outputs": [],
   "source": [
    "from keras.models import Sequential\n",
    "from keras.layers import Embedding, Conv1D, MaxPooling1D, LSTM, Dense\n",
    "\n",
    "# Model Architecture\n",
    "def create_model(embedding_matrix, max_sequence_length, embedding_dim):\n",
    "    model = Sequential()\n",
    "    model.add(Embedding(embedding_matrix.shape[0], embedding_dim, weights=[embedding_matrix], input_length=max_sequence_length, trainable=False))\n",
    "    model.add(Conv1D(filters=128, kernel_size=5, activation='relu'))\n",
    "    model.add(MaxPooling1D(pool_size=2))\n",
    "    model.add(LSTM(32))\n",
    "    model.add(Dense(1, activation='sigmoid'))\n",
    "\n",
    "    # Compile the model\n",
    "    model.compile(optimizer='adam', loss='binary_crossentropy', metrics=['accuracy'])\n",
    "    return model\n",
    "# Create the model for FA-KES dataset\n",
    "model_fakes = create_model(embedding_matrix_fakes, max_sequence_length, embedding_dim)\n",
    "\n",
    "\n"
   ]
  },
  {
   "cell_type": "code",
   "execution_count": 33,
   "metadata": {},
   "outputs": [
    {
     "name": "stdout",
     "output_type": "stream",
     "text": [
      "Epoch 1/10\n",
      "9/9 [==============================] - 6s 242ms/step - loss: 0.6967 - accuracy: 0.5136 - val_loss: 0.7267 - val_accuracy: 0.4884\n",
      "Epoch 2/10\n",
      "9/9 [==============================] - 1s 132ms/step - loss: 0.6736 - accuracy: 0.5739 - val_loss: 0.7089 - val_accuracy: 0.5039\n",
      "Epoch 3/10\n",
      "9/9 [==============================] - 1s 116ms/step - loss: 0.6653 - accuracy: 0.5584 - val_loss: 0.6985 - val_accuracy: 0.5271\n",
      "Epoch 4/10\n",
      "9/9 [==============================] - 1s 111ms/step - loss: 0.6433 - accuracy: 0.5914 - val_loss: 0.6953 - val_accuracy: 0.5116\n",
      "Epoch 5/10\n",
      "9/9 [==============================] - 1s 101ms/step - loss: 0.6366 - accuracy: 0.6693 - val_loss: 0.6962 - val_accuracy: 0.5271\n",
      "Epoch 6/10\n",
      "9/9 [==============================] - 1s 110ms/step - loss: 0.6323 - accuracy: 0.6148 - val_loss: 0.6973 - val_accuracy: 0.5194\n",
      "Epoch 7/10\n",
      "9/9 [==============================] - 1s 107ms/step - loss: 0.6074 - accuracy: 0.6829 - val_loss: 0.6995 - val_accuracy: 0.4729\n",
      "Epoch 8/10\n",
      "9/9 [==============================] - 1s 104ms/step - loss: 0.5629 - accuracy: 0.7121 - val_loss: 0.7120 - val_accuracy: 0.5814\n",
      "Epoch 9/10\n",
      "9/9 [==============================] - 1s 107ms/step - loss: 0.5223 - accuracy: 0.7704 - val_loss: 0.7303 - val_accuracy: 0.5194\n",
      "Epoch 10/10\n",
      "9/9 [==============================] - 1s 105ms/step - loss: 0.4918 - accuracy: 0.7724 - val_loss: 0.7547 - val_accuracy: 0.4961\n"
     ]
    }
   ],
   "source": [
    "history_fakes = model_fakes.fit(X_fakes_train_padded, y_fakes_train, epochs=10, batch_size=64, validation_split=0.2, verbose=1)"
   ]
  },
  {
   "cell_type": "code",
   "execution_count": 34,
   "metadata": {},
   "outputs": [
    {
     "name": "stdout",
     "output_type": "stream",
     "text": [
      "6/6 [==============================] - 1s 35ms/step\n"
     ]
    }
   ],
   "source": [
    "# Evaluate the models on the test sets\n",
    "y_fakes_pred_probs = model_fakes.predict(X_fakes_test_padded)\n",
    "y_fakes_pred = np.argmax(y_fakes_pred_probs, axis=1)"
   ]
  },
  {
   "cell_type": "code",
   "execution_count": 35,
   "metadata": {},
   "outputs": [
    {
     "name": "stdout",
     "output_type": "stream",
     "text": [
      "Accuracy: 0.546583850931677\n",
      "Precision: 0.5975609756097561\n",
      "Recall: 0.550561797752809\n",
      "F1 Score: 0.5730994152046784\n"
     ]
    }
   ],
   "source": [
    "from sklearn.metrics import accuracy_score, precision_score, recall_score, f1_score\n",
    "\n",
    "# Convert predicted probabilities to binary predictions (0 or 1)\n",
    "y_fakes_pred_binary = (y_fakes_pred_probs > 0.5).astype(int)\n",
    "\n",
    "# Calculate accuracy\n",
    "accuracy_fakes = accuracy_score(y_fakes_test, y_fakes_pred_binary)\n",
    "\n",
    "# Calculate precision, recall, and F1 score\n",
    "precision_fakes = precision_score(y_fakes_test, y_fakes_pred_binary)\n",
    "recall_fakes = recall_score(y_fakes_test, y_fakes_pred_binary)\n",
    "f1_score_fakes = f1_score(y_fakes_test, y_fakes_pred_binary)\n",
    "\n",
    "print(\"Accuracy:\", accuracy_fakes)\n",
    "print(\"Precision:\", precision_fakes)\n",
    "print(\"Recall:\", recall_fakes)\n",
    "print(\"F1 Score:\", f1_score_fakes)\n"
   ]
  },
  {
   "cell_type": "markdown",
   "metadata": {},
   "source": [
    "Hybrid CNN-RNN(BiLstm)"
   ]
  },
  {
   "cell_type": "code",
   "execution_count": 36,
   "metadata": {},
   "outputs": [],
   "source": [
    "from keras.layers import Embedding, Conv1D, MaxPooling1D, Bidirectional, LSTM, Dense\n",
    "\n",
    "#Hybrid CNN-RNN BiLSTM\n",
    "\n",
    "def create_model(embedding_matrix, max_sequence_length, embedding_dim):\n",
    "    model = Sequential()\n",
    "    model.add(Embedding(embedding_matrix.shape[0], embedding_dim, weights=[embedding_matrix], input_length=max_sequence_length, trainable=False))\n",
    "    model.add(Conv1D(filters=128, kernel_size=5, activation='relu'))\n",
    "    model.add(MaxPooling1D(pool_size=2))\n",
    "    model.add(Bidirectional(LSTM(32)))  # Use Bidirectional LSTM\n",
    "    model.add(Dense(1, activation='sigmoid'))\n",
    "\n",
    "    # Compile the model\n",
    "    model.compile(optimizer='adam', loss='binary_crossentropy', metrics=['accuracy'])\n",
    "    return model"
   ]
  },
  {
   "cell_type": "code",
   "execution_count": 37,
   "metadata": {},
   "outputs": [
    {
     "name": "stdout",
     "output_type": "stream",
     "text": [
      "Epoch 1/10\n",
      "9/9 [==============================] - 10s 271ms/step - loss: 0.7015 - accuracy: 0.5331 - val_loss: 0.6907 - val_accuracy: 0.5116\n",
      "Epoch 2/10\n",
      "9/9 [==============================] - 1s 116ms/step - loss: 0.7048 - accuracy: 0.4728 - val_loss: 0.6963 - val_accuracy: 0.4884\n",
      "Epoch 3/10\n",
      "9/9 [==============================] - 1s 116ms/step - loss: 0.6779 - accuracy: 0.5720 - val_loss: 0.6914 - val_accuracy: 0.5116\n",
      "Epoch 4/10\n",
      "9/9 [==============================] - 1s 117ms/step - loss: 0.6781 - accuracy: 0.5311 - val_loss: 0.7021 - val_accuracy: 0.5039\n",
      "Epoch 5/10\n",
      "9/9 [==============================] - 1s 124ms/step - loss: 0.6697 - accuracy: 0.5467 - val_loss: 0.6892 - val_accuracy: 0.5271\n",
      "Epoch 6/10\n",
      "9/9 [==============================] - 1s 120ms/step - loss: 0.6534 - accuracy: 0.6245 - val_loss: 0.6868 - val_accuracy: 0.5504\n",
      "Epoch 7/10\n",
      "9/9 [==============================] - 1s 118ms/step - loss: 0.6372 - accuracy: 0.6868 - val_loss: 0.6810 - val_accuracy: 0.6047\n",
      "Epoch 8/10\n",
      "9/9 [==============================] - 1s 122ms/step - loss: 0.6167 - accuracy: 0.6634 - val_loss: 0.6780 - val_accuracy: 0.5969\n",
      "Epoch 9/10\n",
      "9/9 [==============================] - 1s 126ms/step - loss: 0.6146 - accuracy: 0.7043 - val_loss: 0.6812 - val_accuracy: 0.5581\n",
      "Epoch 10/10\n",
      "9/9 [==============================] - 1s 124ms/step - loss: 0.5709 - accuracy: 0.8132 - val_loss: 0.6873 - val_accuracy: 0.5581\n",
      "6/6 [==============================] - 1s 25ms/step\n",
      "Accuracy: 0.515527950310559\n",
      "Precision: 0.5478260869565217\n",
      "Recall: 0.7078651685393258\n",
      "F1 Score: 0.6176470588235293\n"
     ]
    }
   ],
   "source": [
    "# Create the model for FA-KES dataset with Bidirectional LSTM\n",
    "model_fakes = create_model(embedding_matrix_fakes, max_sequence_length, embedding_dim)\n",
    "\n",
    "# Train the model\n",
    "history_fakes = model_fakes.fit(X_fakes_train_padded, y_fakes_train, epochs=10, batch_size=64, validation_split=0.2, verbose=1)\n",
    "\n",
    "# Evaluate the model on the test set\n",
    "y_fakes_pred_probs = model_fakes.predict(X_fakes_test_padded)\n",
    "y_fakes_pred = (y_fakes_pred_probs > 0.5).astype(int)  # Convert predicted probabilities to binary predictions (0 or 1)\n",
    "\n",
    "from sklearn.metrics import accuracy_score, precision_score, recall_score, f1_score\n",
    "\n",
    "# Calculate accuracy\n",
    "accuracy_hcnnrnn = accuracy_score(y_fakes_test, y_fakes_pred)\n",
    "\n",
    "# Calculate precision, recall, and F1 score\n",
    "precision_hcnnrnn = precision_score(y_fakes_test, y_fakes_pred)\n",
    "recall_hcnnrnn = recall_score(y_fakes_test, y_fakes_pred)\n",
    "f1_hcnnrnn = f1_score(y_fakes_test, y_fakes_pred)\n",
    "\n",
    "print(\"Accuracy:\", accuracy_hcnnrnn)\n",
    "print(\"Precision:\", precision_hcnnrnn)\n",
    "print(\"Recall:\", recall_hcnnrnn)\n",
    "print(\"F1 Score:\", f1_hcnnrnn)\n"
   ]
  },
  {
   "cell_type": "markdown",
   "metadata": {},
   "source": [
    "Transformer"
   ]
  },
  {
   "cell_type": "code",
   "execution_count": 38,
   "metadata": {},
   "outputs": [
    {
     "name": "stdout",
     "output_type": "stream",
     "text": [
      "Requirement already satisfied: transformers in c:\\users\\bhavi\\anaconda3\\envs\\myenv\\lib\\site-packages (4.30.2)Note: you may need to restart the kernel to use updated packages.\n",
      "\n",
      "Requirement already satisfied: tokenizers!=0.11.3,<0.14,>=0.11.1 in c:\\users\\bhavi\\anaconda3\\envs\\myenv\\lib\\site-packages (from transformers) (0.13.3)\n",
      "Requirement already satisfied: numpy>=1.17 in c:\\users\\bhavi\\anaconda3\\envs\\myenv\\lib\\site-packages (from transformers) (1.21.5)\n",
      "Requirement already satisfied: tqdm>=4.27 in c:\\users\\bhavi\\anaconda3\\envs\\myenv\\lib\\site-packages (from transformers) (4.66.1)\n",
      "Requirement already satisfied: packaging>=20.0 in c:\\users\\bhavi\\anaconda3\\envs\\myenv\\lib\\site-packages (from transformers) (23.2)\n",
      "Requirement already satisfied: filelock in c:\\users\\bhavi\\anaconda3\\envs\\myenv\\lib\\site-packages (from transformers) (3.12.2)\n",
      "Requirement already satisfied: requests in c:\\users\\bhavi\\anaconda3\\envs\\myenv\\lib\\site-packages (from transformers) (2.28.1)\n",
      "Requirement already satisfied: importlib-metadata in c:\\users\\bhavi\\anaconda3\\envs\\myenv\\lib\\site-packages (from transformers) (6.7.0)\n",
      "Requirement already satisfied: safetensors>=0.3.1 in c:\\users\\bhavi\\anaconda3\\envs\\myenv\\lib\\site-packages (from transformers) (0.3.3)\n",
      "Requirement already satisfied: regex!=2019.12.17 in c:\\users\\bhavi\\anaconda3\\envs\\myenv\\lib\\site-packages (from transformers) (2023.10.3)\n",
      "Requirement already satisfied: huggingface-hub<1.0,>=0.14.1 in c:\\users\\bhavi\\anaconda3\\envs\\myenv\\lib\\site-packages (from transformers) (0.16.4)\n",
      "Requirement already satisfied: pyyaml>=5.1 in c:\\users\\bhavi\\anaconda3\\envs\\myenv\\lib\\site-packages (from transformers) (6.0.1)\n",
      "Requirement already satisfied: typing-extensions>=3.7.4.3 in c:\\users\\bhavi\\anaconda3\\envs\\myenv\\lib\\site-packages (from huggingface-hub<1.0,>=0.14.1->transformers) (4.3.0)\n",
      "Requirement already satisfied: fsspec in c:\\users\\bhavi\\anaconda3\\envs\\myenv\\lib\\site-packages (from huggingface-hub<1.0,>=0.14.1->transformers) (2023.1.0)\n",
      "Requirement already satisfied: colorama in c:\\users\\bhavi\\anaconda3\\envs\\myenv\\lib\\site-packages (from tqdm>=4.27->transformers) (0.4.6)\n",
      "Requirement already satisfied: zipp>=0.5 in c:\\users\\bhavi\\anaconda3\\envs\\myenv\\lib\\site-packages (from importlib-metadata->transformers) (3.15.0)\n",
      "Requirement already satisfied: charset-normalizer<3,>=2 in c:\\users\\bhavi\\anaconda3\\envs\\myenv\\lib\\site-packages (from requests->transformers) (2.0.4)\n",
      "Requirement already satisfied: certifi>=2017.4.17 in c:\\users\\bhavi\\anaconda3\\envs\\myenv\\lib\\site-packages (from requests->transformers) (2022.12.7)\n",
      "Requirement already satisfied: urllib3<1.27,>=1.21.1 in c:\\users\\bhavi\\anaconda3\\envs\\myenv\\lib\\site-packages (from requests->transformers) (1.26.14)\n",
      "Requirement already satisfied: idna<4,>=2.5 in c:\\users\\bhavi\\anaconda3\\envs\\myenv\\lib\\site-packages (from requests->transformers) (3.4)\n"
     ]
    }
   ],
   "source": [
    "pip install transformers\n"
   ]
  },
  {
   "cell_type": "code",
   "execution_count": 39,
   "metadata": {},
   "outputs": [],
   "source": [
    "import torch\n",
    "from sklearn.model_selection import train_test_split\n",
    "from transformers import BertTokenizer, BertForSequenceClassification\n",
    "from sklearn.metrics import accuracy_score, precision_score, recall_score, f1_score\n"
   ]
  },
  {
   "cell_type": "code",
   "execution_count": 40,
   "metadata": {},
   "outputs": [
    {
     "name": "stderr",
     "output_type": "stream",
     "text": [
      "Some weights of the model checkpoint at bert-base-uncased were not used when initializing BertForSequenceClassification: ['cls.predictions.transform.LayerNorm.weight', 'cls.predictions.transform.LayerNorm.bias', 'cls.seq_relationship.weight', 'cls.predictions.bias', 'cls.seq_relationship.bias', 'cls.predictions.transform.dense.bias', 'cls.predictions.transform.dense.weight']\n",
      "- This IS expected if you are initializing BertForSequenceClassification from the checkpoint of a model trained on another task or with another architecture (e.g. initializing a BertForSequenceClassification model from a BertForPreTraining model).\n",
      "- This IS NOT expected if you are initializing BertForSequenceClassification from the checkpoint of a model that you expect to be exactly identical (initializing a BertForSequenceClassification model from a BertForSequenceClassification model).\n",
      "Some weights of BertForSequenceClassification were not initialized from the model checkpoint at bert-base-uncased and are newly initialized: ['classifier.bias', 'classifier.weight']\n",
      "You should probably TRAIN this model on a down-stream task to be able to use it for predictions and inference.\n"
     ]
    },
    {
     "name": "stdout",
     "output_type": "stream",
     "text": [
      "BERT Model Metrics:\n",
      "Accuracy: 0.515527950310559\n",
      "Precision: 0.5504587155963303\n",
      "Recall: 0.6741573033707865\n",
      "F1 Score: 0.6060606060606061\n"
     ]
    }
   ],
   "source": [
    "\n",
    "# Load a pre-trained BERT tokenizer and model\n",
    "tokenizer = BertTokenizer.from_pretrained('bert-base-uncased')\n",
    "model = BertForSequenceClassification.from_pretrained('bert-base-uncased')\n",
    "\n",
    "# Tokenize and encode the text data\n",
    "X_train_encoded = tokenizer(X_fakes_train, padding=True, truncation=True, return_tensors='pt', max_length=128)\n",
    "X_test_encoded = tokenizer(X_fakes_test, padding=True, truncation=True, return_tensors='pt', max_length=128)\n",
    "\n",
    "# Convert labels to tensors\n",
    "y_train_tensor = torch.tensor(y_fakes_train)\n",
    "y_test_tensor = torch.tensor(y_fakes_test)\n",
    "\n",
    "# Forward pass through the model\n",
    "with torch.no_grad():\n",
    "    logits = model(**X_test_encoded).logits\n",
    "\n",
    "# Predictions\n",
    "y_pred = torch.argmax(logits, dim=1).numpy()\n",
    "\n",
    "# Calculate evaluation metrics\n",
    "accuracy_tr = accuracy_score(y_test_tensor.numpy(), y_pred)\n",
    "precision_tr = precision_score(y_test_tensor.numpy(), y_pred)\n",
    "recall_tr = recall_score(y_test_tensor.numpy(), y_pred)\n",
    "f1_tr = f1_score(y_test_tensor.numpy(), y_pred)\n",
    "\n",
    "print(\"BERT Model Metrics:\")\n",
    "print(\"Accuracy:\", accuracy_tr)\n",
    "print(\"Precision:\", precision_tr)\n",
    "print(\"Recall:\", recall_tr)\n",
    "print(\"F1 Score:\", f1_tr)\n"
   ]
  },
  {
   "cell_type": "markdown",
   "metadata": {},
   "source": [
    "CNN only"
   ]
  },
  {
   "cell_type": "code",
   "execution_count": 41,
   "metadata": {},
   "outputs": [
    {
     "name": "stdout",
     "output_type": "stream",
     "text": [
      "CNN-only Model Summary:\n",
      "Model: \"sequential_7\"\n",
      "_________________________________________________________________\n",
      " Layer (type)                Output Shape              Param #   \n",
      "=================================================================\n",
      " embedding_7 (Embedding)     (None, 300, 100)          79500     \n",
      "                                                                 \n",
      " conv1d_5 (Conv1D)           (None, 296, 128)          64128     \n",
      "                                                                 \n",
      " max_pooling1d_5 (MaxPooling  (None, 148, 128)         0         \n",
      " 1D)                                                             \n",
      "                                                                 \n",
      " flatten_1 (Flatten)         (None, 18944)             0         \n",
      "                                                                 \n",
      " dense_8 (Dense)             (None, 64)                1212480   \n",
      "                                                                 \n",
      " dense_9 (Dense)             (None, 1)                 65        \n",
      "                                                                 \n",
      "=================================================================\n",
      "Total params: 1,356,173\n",
      "Trainable params: 1,276,673\n",
      "Non-trainable params: 79,500\n",
      "_________________________________________________________________\n",
      "Epoch 1/10\n",
      "9/9 [==============================] - 2s 82ms/step - loss: 0.6992 - accuracy: 0.4630 - val_loss: 0.7238 - val_accuracy: 0.5116\n",
      "Epoch 2/10\n",
      "9/9 [==============================] - 1s 59ms/step - loss: 0.6860 - accuracy: 0.5370 - val_loss: 0.7014 - val_accuracy: 0.4884\n",
      "Epoch 3/10\n",
      "9/9 [==============================] - 1s 59ms/step - loss: 0.6360 - accuracy: 0.7374 - val_loss: 0.7175 - val_accuracy: 0.5194\n",
      "Epoch 4/10\n",
      "9/9 [==============================] - 1s 67ms/step - loss: 0.5941 - accuracy: 0.7315 - val_loss: 0.7418 - val_accuracy: 0.4419\n",
      "Epoch 5/10\n",
      "9/9 [==============================] - 1s 75ms/step - loss: 0.5376 - accuracy: 0.7607 - val_loss: 0.7744 - val_accuracy: 0.4884\n",
      "Epoch 6/10\n",
      "9/9 [==============================] - 1s 88ms/step - loss: 0.4821 - accuracy: 0.7899 - val_loss: 0.9688 - val_accuracy: 0.5194\n",
      "Epoch 7/10\n",
      "9/9 [==============================] - 1s 80ms/step - loss: 0.4568 - accuracy: 0.7782 - val_loss: 0.8418 - val_accuracy: 0.4651\n",
      "Epoch 8/10\n",
      "9/9 [==============================] - 1s 75ms/step - loss: 0.3633 - accuracy: 0.8521 - val_loss: 0.8897 - val_accuracy: 0.5271\n",
      "Epoch 9/10\n",
      "9/9 [==============================] - 1s 79ms/step - loss: 0.3016 - accuracy: 0.9027 - val_loss: 0.9420 - val_accuracy: 0.5116\n",
      "Epoch 10/10\n",
      "9/9 [==============================] - 1s 77ms/step - loss: 0.3247 - accuracy: 0.8813 - val_loss: 1.0719 - val_accuracy: 0.5116\n",
      "6/6 [==============================] - 0s 13ms/step\n",
      "CNN-only Model Evaluation Results:\n",
      "Accuracy: 0.4968944099378882\n",
      "Precision: 0.5317460317460317\n",
      "Recall: 0.7528089887640449\n",
      "F1 Score: 0.6232558139534884\n"
     ]
    }
   ],
   "source": [
    "from keras.models import Sequential\n",
    "from keras.layers import Embedding, Conv1D, MaxPooling1D, Flatten, Dense\n",
    "\n",
    "# Model Architecture for CNN-only\n",
    "def create_cnn_model(embedding_matrix, max_sequence_length, embedding_dim):\n",
    "    model = Sequential()\n",
    "    model.add(Embedding(embedding_matrix.shape[0], embedding_dim, weights=[embedding_matrix], input_length=max_sequence_length, trainable=False))\n",
    "    model.add(Conv1D(filters=128, kernel_size=5, activation='relu'))\n",
    "    model.add(MaxPooling1D(pool_size=2))\n",
    "    model.add(Flatten())\n",
    "    model.add(Dense(64, activation='relu'))\n",
    "    model.add(Dense(1, activation='sigmoid'))\n",
    "\n",
    "    # Compile\n",
    "    model.compile(optimizer='adam', loss='binary_crossentropy', metrics=['accuracy'])\n",
    "    return model\n",
    "\n",
    "# CNN-only model for FA-KES dataset\n",
    "cnn_model = create_cnn_model(embedding_matrix_fakes, max_sequence_length, embedding_dim)\n",
    "\n",
    "# Summary of CNN-only Model Architecture for FA-KES dataset\n",
    "print(\"CNN-only Model Summary:\")\n",
    "cnn_model.summary()\n",
    "\n",
    "# Train the CNN-only model\n",
    "history_cnn = cnn_model.fit(X_fakes_train_padded, y_fakes_train, epochs=10, batch_size=64, validation_split=0.2, verbose=1)\n",
    "\n",
    "# Evaluate the CNN-only model on the test set\n",
    "y_cnn_pred = cnn_model.predict(X_fakes_test_padded)\n",
    "y_cnn_pred = (y_cnn_pred > 0.5)  # Convert probabilities to binary predictions\n",
    "\n",
    "# Calculate evaluation metrics\n",
    "accuracy_cnn = accuracy_score(y_fakes_test, y_cnn_pred)\n",
    "precision_cnn = precision_score(y_fakes_test, y_cnn_pred)\n",
    "recall_cnn = recall_score(y_fakes_test, y_cnn_pred)\n",
    "f1_score_cnn = f1_score(y_fakes_test, y_cnn_pred)\n",
    "\n",
    "# Print the evaluation results\n",
    "print(\"CNN-only Model Evaluation Results:\")\n",
    "print(\"Accuracy:\", accuracy_cnn)\n",
    "print(\"Precision:\", precision_cnn)\n",
    "print(\"Recall:\", recall_cnn)\n",
    "print(\"F1 Score:\", f1_score_cnn)\n"
   ]
  },
  {
   "cell_type": "markdown",
   "metadata": {},
   "source": [
    "RNN"
   ]
  },
  {
   "cell_type": "code",
   "execution_count": 42,
   "metadata": {},
   "outputs": [
    {
     "name": "stdout",
     "output_type": "stream",
     "text": [
      "RNN-only Model Summary:\n",
      "Model: \"sequential_8\"\n",
      "_________________________________________________________________\n",
      " Layer (type)                Output Shape              Param #   \n",
      "=================================================================\n",
      " embedding_8 (Embedding)     (None, 300, 100)          79500     \n",
      "                                                                 \n",
      " lstm_6 (LSTM)               (None, 32)                17024     \n",
      "                                                                 \n",
      " dense_10 (Dense)            (None, 1)                 33        \n",
      "                                                                 \n",
      "=================================================================\n",
      "Total params: 96,557\n",
      "Trainable params: 17,057\n",
      "Non-trainable params: 79,500\n",
      "_________________________________________________________________\n",
      "Epoch 1/10\n",
      "9/9 [==============================] - 4s 171ms/step - loss: 0.7010 - accuracy: 0.4786 - val_loss: 0.6986 - val_accuracy: 0.4961\n",
      "Epoch 2/10\n",
      "9/9 [==============================] - 1s 94ms/step - loss: 0.6928 - accuracy: 0.5272 - val_loss: 0.6966 - val_accuracy: 0.5271\n",
      "Epoch 3/10\n",
      "9/9 [==============================] - 1s 122ms/step - loss: 0.6866 - accuracy: 0.5409 - val_loss: 0.6918 - val_accuracy: 0.5504\n",
      "Epoch 4/10\n",
      "9/9 [==============================] - 1s 102ms/step - loss: 0.6880 - accuracy: 0.5467 - val_loss: 0.6931 - val_accuracy: 0.4806\n",
      "Epoch 5/10\n",
      "9/9 [==============================] - 1s 100ms/step - loss: 0.6842 - accuracy: 0.5545 - val_loss: 0.6893 - val_accuracy: 0.5271\n",
      "Epoch 6/10\n",
      "9/9 [==============================] - 1s 100ms/step - loss: 0.6755 - accuracy: 0.5914 - val_loss: 0.6892 - val_accuracy: 0.4884\n",
      "Epoch 7/10\n",
      "9/9 [==============================] - 1s 118ms/step - loss: 0.6731 - accuracy: 0.5895 - val_loss: 0.6901 - val_accuracy: 0.4651\n",
      "Epoch 8/10\n",
      "9/9 [==============================] - 1s 136ms/step - loss: 0.6697 - accuracy: 0.6089 - val_loss: 0.6920 - val_accuracy: 0.4961\n",
      "Epoch 9/10\n",
      "9/9 [==============================] - 1s 145ms/step - loss: 0.6688 - accuracy: 0.5895 - val_loss: 0.6906 - val_accuracy: 0.5039\n",
      "Epoch 10/10\n",
      "9/9 [==============================] - 1s 140ms/step - loss: 0.6691 - accuracy: 0.6031 - val_loss: 0.6924 - val_accuracy: 0.5039\n",
      "6/6 [==============================] - 1s 22ms/step\n",
      "RNN-only Model Evaluation Results:\n",
      "Accuracy: 0.4906832298136646\n",
      "Precision: 0.5714285714285714\n",
      "Recall: 0.3146067415730337\n",
      "F1 Score: 0.4057971014492754\n"
     ]
    }
   ],
   "source": [
    "from keras.models import Sequential\n",
    "from keras.layers import Embedding, LSTM, Dense\n",
    "\n",
    "# Model Architecture for RNN-only\n",
    "def create_rnn_model(embedding_matrix, max_sequence_length, embedding_dim):\n",
    "    model = Sequential()\n",
    "    model.add(Embedding(embedding_matrix.shape[0], embedding_dim, weights=[embedding_matrix], input_length=max_sequence_length, trainable=False))\n",
    "    model.add(LSTM(32))\n",
    "    model.add(Dense(1, activation='sigmoid'))\n",
    "\n",
    "    # Compile the model\n",
    "    model.compile(optimizer='adam', loss='binary_crossentropy', metrics=['accuracy'])\n",
    "    return model\n",
    "\n",
    "# Create the RNN-only model for FA-KES dataset\n",
    "rnn_model = create_rnn_model(embedding_matrix_fakes, max_sequence_length, embedding_dim)\n",
    "\n",
    "# Summary of RNN-only Model Architecture for FA-KES dataset\n",
    "print(\"RNN-only Model Summary:\")\n",
    "rnn_model.summary()\n",
    "\n",
    "# Train the RNN-only model\n",
    "history_rnn = rnn_model.fit(X_fakes_train_padded, y_fakes_train, epochs=10, batch_size=64, validation_split=0.2, verbose=1)\n",
    "\n",
    "# Evaluate the RNN-only model on the test set\n",
    "y_rnn_pred = rnn_model.predict(X_fakes_test_padded)\n",
    "y_rnn_pred = (y_rnn_pred > 0.5)  # Convert probabilities to binary predictions\n",
    "\n",
    "# Calculate evaluation metrics\n",
    "accuracy_rnn = accuracy_score(y_fakes_test, y_rnn_pred)\n",
    "precision_rnn = precision_score(y_fakes_test, y_rnn_pred)\n",
    "recall_rnn = recall_score(y_fakes_test, y_rnn_pred)\n",
    "f1_score_rnn = f1_score(y_fakes_test, y_rnn_pred)\n",
    "\n",
    "# Print the evaluation results\n",
    "print(\"RNN-only Model Evaluation Results:\")\n",
    "print(\"Accuracy:\", accuracy_rnn)\n",
    "print(\"Precision:\", precision_rnn)\n",
    "print(\"Recall:\", recall_rnn)\n",
    "print(\"F1 Score:\", f1_score_rnn)\n"
   ]
  },
  {
   "cell_type": "markdown",
   "metadata": {},
   "source": [
    "BiLSTM"
   ]
  },
  {
   "cell_type": "code",
   "execution_count": 43,
   "metadata": {},
   "outputs": [
    {
     "name": "stdout",
     "output_type": "stream",
     "text": [
      "Epoch 1/10\n",
      "9/9 [==============================] - 8s 290ms/step - loss: 0.6958 - accuracy: 0.4844 - val_loss: 0.6916 - val_accuracy: 0.4806\n",
      "Epoch 2/10\n",
      "9/9 [==============================] - 1s 128ms/step - loss: 0.6924 - accuracy: 0.5311 - val_loss: 0.6916 - val_accuracy: 0.5116\n",
      "Epoch 3/10\n",
      "9/9 [==============================] - 1s 122ms/step - loss: 0.6874 - accuracy: 0.5447 - val_loss: 0.6863 - val_accuracy: 0.5271\n",
      "Epoch 4/10\n",
      "9/9 [==============================] - 1s 126ms/step - loss: 0.6832 - accuracy: 0.5759 - val_loss: 0.6842 - val_accuracy: 0.5349\n",
      "Epoch 5/10\n",
      "9/9 [==============================] - 1s 147ms/step - loss: 0.6818 - accuracy: 0.5739 - val_loss: 0.6847 - val_accuracy: 0.5426\n",
      "Epoch 6/10\n",
      "9/9 [==============================] - 2s 176ms/step - loss: 0.6809 - accuracy: 0.5661 - val_loss: 0.6828 - val_accuracy: 0.5814\n",
      "Epoch 7/10\n",
      "9/9 [==============================] - 2s 188ms/step - loss: 0.6756 - accuracy: 0.6012 - val_loss: 0.6815 - val_accuracy: 0.5814\n",
      "Epoch 8/10\n",
      "9/9 [==============================] - 2s 177ms/step - loss: 0.6738 - accuracy: 0.5778 - val_loss: 0.6786 - val_accuracy: 0.5969\n",
      "Epoch 9/10\n",
      "9/9 [==============================] - 2s 171ms/step - loss: 0.6700 - accuracy: 0.5992 - val_loss: 0.6754 - val_accuracy: 0.5891\n",
      "Epoch 10/10\n",
      "9/9 [==============================] - 1s 167ms/step - loss: 0.6658 - accuracy: 0.6284 - val_loss: 0.6752 - val_accuracy: 0.6047\n",
      "6/6 [==============================] - 1s 28ms/step\n",
      "Bidirectional LSTM Model Metrics:\n",
      "Accuracy: 0.5590062111801242\n",
      "Precision: 0.5714285714285714\n",
      "Recall: 0.8089887640449438\n",
      "F1 Score: 0.6697674418604651\n"
     ]
    }
   ],
   "source": [
    "# Create the model for FA-KES dataset with only Bidirectional LSTM\n",
    "def create_bilstm_model(embedding_matrix, max_sequence_length, embedding_dim):\n",
    "    model = Sequential()\n",
    "    model.add(Embedding(embedding_matrix.shape[0], embedding_dim, weights=[embedding_matrix], input_length=max_sequence_length, trainable=False))\n",
    "    model.add(Bidirectional(LSTM(32)))  # Use Bidirectional LSTM\n",
    "    model.add(Dense(1, activation='sigmoid'))\n",
    "\n",
    "    # Compile the model\n",
    "    model.compile(optimizer='adam', loss='binary_crossentropy', metrics=['accuracy'])\n",
    "    return model\n",
    "\n",
    "# Create and train the Bidirectional LSTM model\n",
    "model_bilstm_fakes = create_bilstm_model(embedding_matrix_fakes, max_sequence_length, embedding_dim)\n",
    "history_bilstm_fakes = model_bilstm_fakes.fit(X_fakes_train_padded, y_fakes_train, epochs=10, batch_size=64, validation_split=0.2, verbose=1)\n",
    "\n",
    "# Evaluate the Bidirectional LSTM model on the test set\n",
    "y_fakes_bilstm_pred_probs = model_bilstm_fakes.predict(X_fakes_test_padded)\n",
    "y_fakes_bilstm_pred = (y_fakes_bilstm_pred_probs > 0.5).astype(int)\n",
    "\n",
    "# Calculate evaluation metrics\n",
    "accuracy_bilstm = accuracy_score(y_fakes_test, y_fakes_bilstm_pred)\n",
    "precision_bilstm = precision_score(y_fakes_test, y_fakes_bilstm_pred)\n",
    "recall_bilstm = recall_score(y_fakes_test, y_fakes_bilstm_pred)\n",
    "f1_bilstm = f1_score(y_fakes_test, y_fakes_bilstm_pred)\n",
    "\n",
    "print(\"Bidirectional LSTM Model Metrics:\")\n",
    "print(\"Accuracy:\", accuracy_bilstm)\n",
    "print(\"Precision:\", precision_bilstm)\n",
    "print(\"Recall:\", recall_bilstm)\n",
    "print(\"F1 Score:\", f1_bilstm)"
   ]
  },
  {
   "cell_type": "code",
   "execution_count": 44,
   "metadata": {},
   "outputs": [
    {
     "name": "stderr",
     "output_type": "stream",
     "text": [
      "c:\\Users\\bhavi\\anaconda3\\envs\\myenv\\lib\\site-packages\\sklearn\\linear_model\\_logistic.py:818: ConvergenceWarning: lbfgs failed to converge (status=1):\n",
      "STOP: TOTAL NO. of ITERATIONS REACHED LIMIT.\n",
      "\n",
      "Increase the number of iterations (max_iter) or scale the data as shown in:\n",
      "    https://scikit-learn.org/stable/modules/preprocessing.html\n",
      "Please also refer to the documentation for alternative solver options:\n",
      "    https://scikit-learn.org/stable/modules/linear_model.html#logistic-regression\n",
      "  extra_warning_msg=_LOGISTIC_SOLVER_CONVERGENCE_MSG,\n"
     ]
    }
   ],
   "source": [
    "from sklearn.linear_model import LogisticRegression\n",
    "from sklearn.ensemble import RandomForestClassifier, AdaBoostClassifier\n",
    "from sklearn.naive_bayes import MultinomialNB\n",
    "from sklearn.svm import SVC\n",
    "from sklearn.neighbors import KNeighborsClassifier\n",
    "from sklearn.tree import DecisionTreeClassifier\n",
    "from sklearn.metrics import accuracy_score, precision_score, recall_score, f1_score\n",
    "import numpy as np\n",
    "from sklearn.linear_model import SGDClassifier\n",
    "# Define classifiers\n",
    "classifiers = {\n",
    "    \"LR\": LogisticRegression(),\n",
    "    \"RF\": RandomForestClassifier(),\n",
    "    \"MNB\": MultinomialNB(),\n",
    "    \"SGD\": SGDClassifier(),\n",
    "    \"KNNs\": KNeighborsClassifier(),\n",
    "    \"DT\": DecisionTreeClassifier(),\n",
    "    \"AB\": AdaBoostClassifier(),\n",
    "}\n",
    "# Train and evaluate classifiers\n",
    "results = {}\n",
    "for clf_name, clf in classifiers.items():\n",
    "    clf.fit(X_fakes_train_padded, y_fakes_train)\n",
    "    y_pred = clf.predict(X_fakes_test_padded)\n",
    "\n",
    "    accuracy = accuracy_score(y_fakes_test, y_pred)\n",
    "    precision = precision_score(y_fakes_test, y_pred)\n",
    "    recall = recall_score(y_fakes_test, y_pred)\n",
    "    f1 = f1_score(y_fakes_test, y_pred)\n",
    "\n",
    "    results[clf_name] = {\n",
    "        \"Accuracy\": accuracy,\n",
    "        \"Precision\": precision,\n",
    "        \"Recall\": recall,\n",
    "        \"F1 Score\": f1,\n",
    "    }\n"
   ]
  },
  {
   "cell_type": "code",
   "execution_count": 45,
   "metadata": {},
   "outputs": [],
   "source": [
    "hybrid_results = {\n",
    "    \"Hybrid CNN-RNN(LSTM)\": {\n",
    "        \"Accuracy\": accuracy_fakes,\n",
    "        \"Precision\": precision_fakes,\n",
    "        \"Recall\": recall_fakes,\n",
    "        \"F1 Score\": f1_score_fakes,\n",
    "    }\n",
    "}\n",
    "hybrid_bilstmresults={\n",
    "    \"Hybrid CNN-RNN(BiLSTM)\":{\n",
    "        \"Accuracy\": accuracy_hcnnrnn,\n",
    "        \"Precision\": precision_hcnnrnn,\n",
    "        \"Recall\": recall_hcnnrnn,\n",
    "        \"F1 Score\": f1_hcnnrnn,\n",
    "    }\n",
    "}\n",
    "transformer_results={\n",
    "    \"Transformers\":{\n",
    "        \"Accuracy\": accuracy_tr,\n",
    "        \"Precision\": precision_tr,\n",
    "        \"Recall\": recall_tr,\n",
    "        \"F1 Score\": f1_tr,\n",
    "    }\n",
    "}\n",
    "BilstmOnly_results={\n",
    "    \"BiLSTMOnly\":{\n",
    "        \"Accuracy\": accuracy_bilstm,\n",
    "        \"Precision\": precision_bilstm,\n",
    "        \"Recall\": recall_bilstm,\n",
    "        \"F1 Score\": f1_bilstm,\n",
    "    }\n",
    "}"
   ]
  },
  {
   "cell_type": "code",
   "execution_count": 46,
   "metadata": {},
   "outputs": [
    {
     "name": "stdout",
     "output_type": "stream",
     "text": [
      "Results of all models on the FA-KES dataset:\n",
      "Classifier\tAccuracy\tPrecision\tRecall\t\tF1 Score\n",
      "LR\t\t0.50\t\t0.53\t\t0.79\t\t0.64\n",
      "RF\t\t0.45\t\t0.51\t\t0.51\t\t0.51\n",
      "MNB\t\t0.49\t\t0.55\t\t0.44\t\t0.49\n",
      "SGD\t\t0.55\t\t0.61\t\t0.51\t\t0.55\n",
      "KNNs\t\t0.48\t\t0.54\t\t0.49\t\t0.51\n",
      "DT\t\t0.51\t\t0.56\t\t0.51\t\t0.53\n",
      "AB\t\t0.50\t\t0.55\t\t0.52\t\t0.53\n",
      "Hybrid CNN-RNN(LSTM)\t\t0.55\t\t0.60\t\t0.55\t\t0.57\n",
      "Hybrid CNN-RNN(BiLSTM)\t\t0.52\t\t0.55\t\t0.71\t\t0.62\n",
      "Transformers\t\t0.52\t\t0.55\t\t0.67\t\t0.61\n",
      "BiLSTMOnly\t\t0.56\t\t0.57\t\t0.81\t\t0.67\n",
      "CNN-only\t\t0.50\t\t0.53\t\t0.75\t\t0.62\n",
      "RNN-only\t\t0.49\t\t0.57\t\t0.31\t\t0.41\n"
     ]
    }
   ],
   "source": [
    "# Combine the results of all models\n",
    "all_results = {\n",
    "    **results,\n",
    "    **hybrid_results,\n",
    "    **hybrid_bilstmresults,\n",
    "    **transformer_results,\n",
    "    **BilstmOnly_results,\n",
    "    'CNN-only': {\n",
    "        'Accuracy': accuracy_cnn,\n",
    "        'Precision': precision_cnn,\n",
    "        'Recall': recall_cnn,\n",
    "        'F1 Score': f1_score_cnn\n",
    "    },\n",
    "    'RNN-only': {\n",
    "        'Accuracy': accuracy_rnn,\n",
    "        'Precision': precision_rnn,\n",
    "        'Recall': recall_rnn,\n",
    "        'F1 Score': f1_score_rnn\n",
    "    }\n",
    "\n",
    "}\n",
    "\n",
    "# Print the comparison table\n",
    "print(\"Results of all models on the FA-KES dataset:\")\n",
    "print(\"Classifier\\tAccuracy\\tPrecision\\tRecall\\t\\tF1 Score\")\n",
    "for clf_name, metrics in all_results.items():\n",
    "    print(f\"{clf_name}\\t\\t{metrics['Accuracy']:.2f}\\t\\t{metrics['Precision']:.2f}\\t\\t{metrics['Recall']:.2f}\\t\\t{metrics['F1 Score']:.2f}\")\n"
   ]
  }
 ],
 "metadata": {
  "kernelspec": {
   "display_name": "myenv",
   "language": "python",
   "name": "python3"
  },
  "language_info": {
   "codemirror_mode": {
    "name": "ipython",
    "version": 3
   },
   "file_extension": ".py",
   "mimetype": "text/x-python",
   "name": "python",
   "nbconvert_exporter": "python",
   "pygments_lexer": "ipython3",
   "version": "3.7.16"
  }
 },
 "nbformat": 4,
 "nbformat_minor": 2
}
